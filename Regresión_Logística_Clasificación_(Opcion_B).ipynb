{
  "nbformat": 4,
  "nbformat_minor": 0,
  "metadata": {
    "colab": {
      "provenance": []
    },
    "kernelspec": {
      "name": "python3",
      "display_name": "Python 3"
    },
    "language_info": {
      "name": "python"
    }
  },
  "cells": [
    {
      "cell_type": "markdown",
      "source": [
        "# **Regresión Logística/Clasificación: Breast Cancer Wisconsin**"
      ],
      "metadata": {
        "id": "EDcJizcfKSYu"
      }
    },
    {
      "cell_type": "code",
      "source": [
        "semilla = 28314688"
      ],
      "metadata": {
        "id": "18Wlz-fQSck6"
      },
      "execution_count": null,
      "outputs": []
    },
    {
      "cell_type": "markdown",
      "source": [
        "## **Introducción**\n",
        "\n",
        "\n"
      ],
      "metadata": {
        "id": "q38AzNKcK4t3"
      }
    },
    {
      "cell_type": "markdown",
      "source": [
        "#### El cáncer de mama es una de las principales causas de mortalidad en mujeres. Su detección temprana puede mejorar significativamente las tasas de supervivencia. En este estudio, usaremos un modelo de Regresión Logística para que nos ayude a clasificar tumores en benignos (no cancerosos) o malignos (cancerosos).\n",
        "\n",
        "### Para ello, utilizaremos el conjunto de datos Breast Cancer Wisconsin de Scikit-Learn, el cual contiene 30 atributos numéricos extraídos de imágenes de tumores, como el radio, textura y perímetro de las células cancerígenas."
      ],
      "metadata": {
        "id": "LxjfvsqHLYgN"
      }
    },
    {
      "cell_type": "markdown",
      "source": [
        "## **Carga y Exploración de los datos**"
      ],
      "metadata": {
        "id": "PuR0lJ9-NgZj"
      }
    },
    {
      "cell_type": "markdown",
      "source": [
        "### Vemos en el siguiente codigo como cargamos el dataset y lo guardamos en las varaibles que le pasaremos al modelo y ademas mostramos unas filas de esos datos para ver como  "
      ],
      "metadata": {
        "id": "Y-aVfGcEN0oU"
      }
    },
    {
      "cell_type": "code",
      "source": [
        "from sklearn.datasets import load_breast_cancer\n",
        "import pandas as pd\n",
        "\n",
        "# Cargar el dataset\n",
        "data = load_breast_cancer()\n",
        "X = pd.DataFrame(data.data, columns=data.feature_names)\n",
        "y = pd.Series(data.target)\n",
        "\n",
        "# Ver las primeras filas de los datos\n",
        "print(X.head())\n",
        "print(y.value_counts())"
      ],
      "metadata": {
        "colab": {
          "base_uri": "https://localhost:8080/"
        },
        "id": "5Ih-jw0iN4Fl",
        "outputId": "590e64c8-5c5c-425f-924d-0c3242bd896c"
      },
      "execution_count": null,
      "outputs": [
        {
          "output_type": "stream",
          "name": "stdout",
          "text": [
            "   mean radius  mean texture  mean perimeter  mean area  mean smoothness  mean compactness  mean concavity  mean concave points  mean symmetry  mean fractal dimension  radius error  texture error  perimeter error  area error  smoothness error  compactness error  concavity error  concave points error  symmetry error  fractal dimension error  worst radius  worst texture  worst perimeter  worst area  worst smoothness  worst compactness  worst concavity  worst concave points  worst symmetry  worst fractal dimension\n",
            "0      17.9900       10.3800        122.8000  1001.0000           0.1184            0.2776          0.3001               0.1471         0.2419                  0.0787        1.0950         0.9053           8.5890    153.4000            0.0064             0.0490           0.0537                0.0159          0.0300                   0.0062       25.3800        17.3300         184.6000   2019.0000            0.1622             0.6656           0.7119                0.2654          0.4601                   0.1189\n",
            "1      20.5700       17.7700        132.9000  1326.0000           0.0847            0.0786          0.0869               0.0702         0.1812                  0.0567        0.5435         0.7339           3.3980     74.0800            0.0052             0.0131           0.0186                0.0134          0.0139                   0.0035       24.9900        23.4100         158.8000   1956.0000            0.1238             0.1866           0.2416                0.1860          0.2750                   0.0890\n",
            "2      19.6900       21.2500        130.0000  1203.0000           0.1096            0.1599          0.1974               0.1279         0.2069                  0.0600        0.7456         0.7869           4.5850     94.0300            0.0062             0.0401           0.0383                0.0206          0.0225                   0.0046       23.5700        25.5300         152.5000   1709.0000            0.1444             0.4245           0.4504                0.2430          0.3613                   0.0876\n",
            "3      11.4200       20.3800         77.5800   386.1000           0.1425            0.2839          0.2414               0.1052         0.2597                  0.0974        0.4956         1.1560           3.4450     27.2300            0.0091             0.0746           0.0566                0.0187          0.0596                   0.0092       14.9100        26.5000          98.8700    567.7000            0.2098             0.8663           0.6869                0.2575          0.6638                   0.1730\n",
            "4      20.2900       14.3400        135.1000  1297.0000           0.1003            0.1328          0.1980               0.1043         0.1809                  0.0588        0.7572         0.7813           5.4380     94.4400            0.0115             0.0246           0.0569                0.0188          0.0176                   0.0051       22.5400        16.6700         152.2000   1575.0000            0.1374             0.2050           0.4000                0.1625          0.2364                   0.0768\n",
            "1    357\n",
            "0    212\n",
            "Name: count, dtype: int64\n"
          ]
        }
      ]
    },
    {
      "cell_type": "markdown",
      "source": [
        "\n",
        "\n",
        "*   Clase 0: Tumores malignos (M).\n",
        "*   Clase 1: Tumores benignos (B)."
      ],
      "metadata": {
        "id": "AgDGAoaadbqh"
      }
    },
    {
      "cell_type": "markdown",
      "source": [
        "## **Preprocesamiento de Datos**"
      ],
      "metadata": {
        "id": "Y7RVnUBeQUA8"
      }
    },
    {
      "cell_type": "markdown",
      "source": [
        "### **División en entrenamiento y prueba**"
      ],
      "metadata": {
        "id": "_d5JFhmVQrZm"
      }
    },
    {
      "cell_type": "markdown",
      "source": [
        "#### Para evaluar correctamente el modelo, dividimos los datos en dos partes usando train_test_split():\n",
        "\n",
        "*   80% (entrenamiento): Usado para ajustar los parámetros del modelo.\n",
        "*   20% (prueba): Usado para medir el rendimiento del modelo en datos nunca antes vistos"
      ],
      "metadata": {
        "id": "XRblkWmQQwyx"
      }
    },
    {
      "cell_type": "code",
      "source": [
        "import numpy as np\n",
        "from sklearn.model_selection import train_test_split\n",
        "\n",
        "X_train, X_test, y_train, y_test = train_test_split(X, y, test_size=0.2, random_state=semilla, stratify=y)\n",
        "\n",
        "print(f\"Número de muestras en entrenamiento: {X_train.shape[0]}\")\n",
        "print(f\"Número de muestras en prueba: {X_test.shape[0]}\")"
      ],
      "metadata": {
        "colab": {
          "base_uri": "https://localhost:8080/"
        },
        "id": "ZDyDghICSQNE",
        "outputId": "63cdbd71-54af-48cf-b6b3-6531bc132f8a"
      },
      "execution_count": null,
      "outputs": [
        {
          "output_type": "stream",
          "name": "stdout",
          "text": [
            "Número de muestras en entrenamiento: 455\n",
            "Número de muestras en prueba: 114\n"
          ]
        }
      ]
    },
    {
      "cell_type": "markdown",
      "source": [
        "### **Normalización**"
      ],
      "metadata": {
        "id": "SxOBvIJ7RRug"
      }
    },
    {
      "cell_type": "markdown",
      "source": [
        "#### Los valores de las características pueden estar en diferentes escalas. Por ejemplo, el radio de una célula puede estar entre 6 y 30, mientras que la textura puede estar entre 0 y 1, y vemos mucha variacion entre los rangos de los distintos valores.\n",
        "\n",
        "#### Para evitar que algunas variables dominen el modelo, usamos StandardScaler() para transformar los datos a una distribución con media 0 y varianza 1. Esto mejora la estabilidad del modelo y acelera el proceso de aprendizaje."
      ],
      "metadata": {
        "id": "wsq-_czNRYAL"
      }
    },
    {
      "cell_type": "code",
      "source": [
        "from sklearn.preprocessing import StandardScaler\n",
        "\n",
        "scaler = StandardScaler()\n",
        "X_train = scaler.fit_transform(X_train)\n",
        "X_test = scaler.transform(X_test)"
      ],
      "metadata": {
        "id": "ccM5XzfgSPdM"
      },
      "execution_count": null,
      "outputs": []
    },
    {
      "cell_type": "markdown",
      "source": [
        "## **Construcción y Evaluación del Modelo:**"
      ],
      "metadata": {
        "id": "Ki0-CVU9S6En"
      }
    },
    {
      "cell_type": "markdown",
      "source": [
        "### Con este codigo entrenamos a nuestro modelo con los datos de entrenamiento mediante fit() y despues hacemos unas predicciones en el conjunto de prueba"
      ],
      "metadata": {
        "id": "aaprl1IITRgC"
      }
    },
    {
      "cell_type": "code",
      "source": [
        "from sklearn.linear_model import LogisticRegression\n",
        "\n",
        "model = LogisticRegression(solver=\"liblinear\", random_state=semilla)\n",
        "model.fit(X_train, y_train)\n",
        "\n",
        "y_pred = model.predict(X_test)\n",
        "y_pred_prob = model.predict_proba(X_test)[:, 1]"
      ],
      "metadata": {
        "id": "yV0s_cA7S-eB"
      },
      "execution_count": null,
      "outputs": []
    },
    {
      "cell_type": "markdown",
      "source": [
        "### Una vez entrenado el modelo y generado las predicciones, podemos evaluar las métricas para verificar si presenta sobreajuste o si no está realizando buenas predicciones con nuevos datos. Vamos a utilizar las métricas de Precisión, F1-Score, Curvas ROC y AUC. Vamos a analizar cada una de ellas, explicando qué hacen y analizando los resultados."
      ],
      "metadata": {
        "id": "EbTRXCspTfgQ"
      }
    },
    {
      "cell_type": "markdown",
      "source": [
        "### **Precisión (Accuracy):**"
      ],
      "metadata": {
        "id": "aqOMBLMhVk8E"
      }
    },
    {
      "cell_type": "markdown",
      "source": [
        "#### La precisión mide qué tan bien el modelo clasifica correctamente las instancias de un conjunto de datos. En términos simples, es la proporción de predicciones correctas (tanto positivas como negativas) sobre el total de predicciones realizadas. En el contexto de este modelo que estamos evaluando, la precisión nos permite ver qué tan bien el modelo está clasificando tanto los datos de entrenamiento como los de prueba, lo que nos ayuda a entender si el modelo está generalizando adecuadamente o si está sobreajustado."
      ],
      "metadata": {
        "id": "uTZmhLRzV5Gm"
      }
    },
    {
      "cell_type": "code",
      "source": [
        "from sklearn.metrics import roc_curve, auc, classification_report, accuracy_score\n",
        "\n",
        "accuracy_train = accuracy_score(y_train, model.predict(X_train)) * 100\n",
        "accuracy_test = accuracy_score(y_test, y_pred) * 100\n",
        "\n",
        "print(\"Precisión en el conjunto de entrenamiento: {:.2f}%\".format(accuracy_train))\n",
        "print(\"Precisión en el conjunto de prueba: {:.2f}%\".format(accuracy_test))"
      ],
      "metadata": {
        "colab": {
          "base_uri": "https://localhost:8080/"
        },
        "id": "sVoIqApBUZBj",
        "outputId": "7255fd3c-b801-4ce3-ad53-936ff30fa324"
      },
      "execution_count": null,
      "outputs": [
        {
          "output_type": "stream",
          "name": "stdout",
          "text": [
            "Precisión en el conjunto de entrenamiento: 98.68%\n",
            "Precisión en el conjunto de prueba: 96.49%\n"
          ]
        }
      ]
    },
    {
      "cell_type": "markdown",
      "source": [
        "#### Observando estos valores, podemos notar que la precisión en el conjunto de entrenamiento es del 98.68%, mientras que en el conjunto de prueba es del 96.49%. Esto indica que no hay sobreajuste significativo, ya que ambas métricas son altas y cercanas entre sí. Además, estos resultados reflejan un buen desempeño del modelo. Sin embargo, para ser más meticulosos y asegurar una regularización adecuada, podemos afinar la búsqueda del hiperparámetro C en un rango más corto y específico.\n"
      ],
      "metadata": {
        "id": "3yT9eWqRVf3q"
      }
    },
    {
      "cell_type": "markdown",
      "source": [
        "#### La regularización, en este caso, tiene como objetivo controlar la complejidad del modelo, evitando que se ajuste demasiado a los datos de entrenamiento y, por lo tanto, mejorando su capacidad de generalización. Al ajustar el valor de C, podemos encontrar un equilibrio óptimo entre el ajuste a los datos de entrenamiento y la capacidad de generalización del modelo."
      ],
      "metadata": {
        "id": "jgAjSIjOYN7h"
      }
    },
    {
      "cell_type": "code",
      "source": [
        "from sklearn.model_selection import GridSearchCV\n",
        "\n",
        "model = LogisticRegression(penalty='l2', solver='liblinear', random_state=semilla)\n",
        "\n",
        "param_grid = {'C': [0.05, 0.1, 0.15, 0.2, 0.25, 0.3, 0.35, 0.4, 0.45, 0.5]}\n",
        "grid_search = GridSearchCV(estimator=model, param_grid=param_grid, cv=5, scoring='accuracy')\n",
        "\n",
        "# Entrenamos\n",
        "grid_search.fit(X_train, y_train)\n",
        "\n",
        "# Mejor valor de C en ese rango\n",
        "best_C = grid_search.best_params_['C']\n",
        "print(\"Mejor valor de C encontrado:\", best_C)\n",
        "\n",
        "# Entrenamos con ese valor de C\n",
        "best_model = LogisticRegression(penalty='l2', C=best_C, solver='liblinear', random_state=semilla)\n",
        "best_model.fit(X_train, y_train)\n",
        "\n",
        "# Hacemos predicciones\n",
        "y_pred = best_model.predict(X_test)\n",
        "y_pred_prob = best_model.predict_proba(X_test)[:, 1]\n",
        "\n",
        "accuracy_train = accuracy_score(y_train, best_model.predict(X_train)) * 100\n",
        "accuracy_test = accuracy_score(y_test, y_pred) * 100\n",
        "\n",
        "print(\"Precisión en el conjunto de entrenamiento con el mejor C: {:.2f}%\".format(accuracy_train))\n",
        "print(\"Precisión en el conjunto de prueba con el mejor C: {:.2f}%\".format(accuracy_test))"
      ],
      "metadata": {
        "colab": {
          "base_uri": "https://localhost:8080/"
        },
        "id": "oKnC5gUFXWnI",
        "outputId": "75365f73-13aa-4c82-f793-9f7f7148634d"
      },
      "execution_count": null,
      "outputs": [
        {
          "output_type": "stream",
          "name": "stdout",
          "text": [
            "Mejor valor de C encontrado: 0.05\n",
            "Precisión en el conjunto de entrenamiento con el mejor C: 98.24%\n",
            "Precisión en el conjunto de prueba con el mejor C: 97.37%\n"
          ]
        }
      ]
    },
    {
      "cell_type": "markdown",
      "source": [
        "#### Al comparar los dos modelos, el que utiliza regularización con C = 0.05 y el que no la utiliza, se observan diferencias importantes que nos permiten entender cómo la regularización influye en el rendimiento del modelo. En el modelo sin regularización, la precisión en el conjunto de entrenamiento es muy alta (98.68%), lo que indica que el modelo se ajusta muy bien a los datos de entrenamiento. Sin embargo, esta alta precisión no se traduce de la misma manera en el conjunto de prueba, donde la precisión es menor (96.49%). Esto sugiere que el modelo sin regularización puede estar capturando ruido o patrones específicos de los datos de entrenamiento que no son generalizables a nuevos datos, es decir, hay un ligero sobreajuste.\n",
        "\n",
        "#### Por otro lado, el modelo con regularización (C = 0.05) muestra una precisión ligeramente menor en el conjunto de entrenamiento (98.24%), pero mejora significativamente en el conjunto de prueba (97.37%). Esto indica que la regularización está cumpliendo su propósito: controlar la complejidad del modelo para evitar que se ajuste demasiado a los datos de entrenamiento. Al hacerlo, el modelo se vuelve más robusto y generaliza mejor a datos no vistos. La mejora en la precisión de prueba, aunque no sea enorme, es relevante porque refleja una mayor capacidad del modelo para realizar predicciones precisas en situaciones reales, donde los datos pueden ser ligeramente diferentes a los de entrenamiento.\n",
        "\n",
        "#### La elección de C = 0.05 como el mejor valor sugiere que los datos se benefician de una regularización relativamente fuerte. Esto puede deberse a la presencia de ruido en los datos, características irrelevantes o redundantes. La regularización L1, en particular, ayuda a eliminar características menos importantes, lo que contribuye a un modelo más simple pero más efectivo. En resumen, el modelo con regularización no solo evita el sobreajuste, sino que también mejora la capacidad de generalización, lo que lo convierte en una opción más confiable y adecuada."
      ],
      "metadata": {
        "id": "Yq_TLSDEYPsa"
      }
    },
    {
      "cell_type": "markdown",
      "source": [
        "### **F1-Score:**"
      ],
      "metadata": {
        "id": "CxX6__aFZaCj"
      }
    },
    {
      "cell_type": "markdown",
      "source": [
        "#### El F1-score es la media armónica entre la precisión y el recall. La media armónica es una forma de promediar dos valores, dando más peso a los valores más bajos. Esto es útil porque asegura que el F1-score no sea alto si una de las dos métricas (precisión o recall) es baja. Es especialmente útil cuando las clases están desbalanceadas. Por ejemplo, si tienes muchas más muestras de una clase que de otra, ya que proporciona una evaluación más equilibrada.\n",
        "\n"
      ],
      "metadata": {
        "id": "6hgYfkg8aXmX"
      }
    },
    {
      "cell_type": "code",
      "source": [
        "from sklearn.metrics import f1_score\n",
        "\n",
        "f1 = f1_score(y_test, y_pred, average='binary') * 100\n",
        "print(\"F1-score: {:.2f}%\".format(f1))"
      ],
      "metadata": {
        "colab": {
          "base_uri": "https://localhost:8080/"
        },
        "id": "OkGHGVlYZt5c",
        "outputId": "3475bdc2-091e-462c-9389-b36de794d3b2"
      },
      "execution_count": null,
      "outputs": [
        {
          "output_type": "stream",
          "name": "stdout",
          "text": [
            "F1-score: 97.96%\n"
          ]
        }
      ]
    },
    {
      "cell_type": "markdown",
      "source": [
        "#### Un F1-score de 97.96% es un resultado excelente que indica que el modelo está logrando un equilibrio casi perfecto entre la precisión y el recall. En términos prácticos, esto significa que el modelo es muy efectivo para identificar correctamente los tumores malignos (alta sensibilidad o recall) y, al mismo tiempo, está cometiendo muy pocos errores al predecir tumores benignos como malignos (alta precisión). En el contexto médico, esto es crucial, ya que un alto recall asegura que no se pasen por alto casos de cáncer, mientras que una alta precisión evita generar alarmas falsas que podrían causar estrés innecesario en los pacientes y costos adicionales por pruebas de seguimiento.\n",
        "\n",
        "#### Con este resultado podemos decir que el modelo está bien ajustado. Sin embargo, es importante destacar que, aunque el rendimiento es muy bueno, vamos a verificar otras métricas, como las Curvas ROC y el AUC, para asegurar que este score no es engañoso debido a la cantidad no completamente balanceada de datos en cada clase."
      ],
      "metadata": {
        "id": "lHOM-ZIueO7A"
      }
    },
    {
      "cell_type": "markdown",
      "source": [
        "#### **Curva ROC y AUC**"
      ],
      "metadata": {
        "id": "Ay2IB-bcfbYS"
      }
    },
    {
      "cell_type": "markdown",
      "source": [
        "#### La Curva ROC es una gráfica que muestra cómo el modelo se comporta en términos de la Tasa de Verdaderos Positivos (TPR) y la Tasa de Falsos Positivos (FPR) para diferentes umbrales de clasificación. La TPR mide la proporción de tumores malignos que el modelo identificó correctamente, mientras que la FPR mide la proporción de tumores benignos que fueron incorrectamente clasificados como malignos. Un modelo perfecto tendría una curva ROC que pasa por la esquina superior izquierda (TPR = 1, FPR = 0), mientras que un modelo aleatorio seguiría la diagonal de la grafica.\n",
        "\n"
      ],
      "metadata": {
        "id": "gaTzireOjKon"
      }
    },
    {
      "cell_type": "markdown",
      "source": [
        "#### El AUC es el área bajo la curva ROC y resume el rendimiento del modelo en un solo valor. Un AUC de 1.0 indica un modelo perfecto, mientras que un AUC de 0.5 indica que el modelo no es mejor que una predicción aleatoria. En el contexto de tu problema, un AUC alto (por ejemplo, 0.98) indica que el modelo es muy bueno para distinguir entre tumores malignos y benignos, independientemente del umbral de clasificación."
      ],
      "metadata": {
        "id": "8iuhO90ajWTc"
      }
    },
    {
      "cell_type": "code",
      "source": [
        "from sklearn.metrics import roc_curve, auc, RocCurveDisplay\n",
        "import matplotlib.pyplot as plt\n",
        "\n",
        "fpr, tpr, thresholds = roc_curve(y_test, y_pred_prob)\n",
        "\n",
        "# (AUC)\n",
        "roc_auc = auc(fpr, tpr)\n",
        "\n",
        "# Mostrar la curva ROC\n",
        "display = RocCurveDisplay(fpr=fpr, tpr=tpr, roc_auc=roc_auc, estimator_name='Regresión Logística')\n",
        "display.plot()\n",
        "\n",
        "# Grafica\n",
        "plt.title(\"Curva ROC para Breast Cancer Dataset\")\n",
        "plt.xlabel(\"Tasa de Falsos Positivos (FPR)\")\n",
        "plt.ylabel(\"Tasa de Verdaderos Positivos (TPR)\")\n",
        "plt.axis(\"square\")\n",
        "plt.show()"
      ],
      "metadata": {
        "colab": {
          "base_uri": "https://localhost:8080/",
          "height": 472
        },
        "id": "D1X_lDvDgFbd",
        "outputId": "d6da2191-3ca0-4511-f99a-c25b035268eb"
      },
      "execution_count": null,
      "outputs": [
        {
          "output_type": "display_data",
          "data": {
            "text/plain": [
              "<Figure size 640x480 with 1 Axes>"
            ],
            "image/png": "[encoded data removed]"
          },
          "metadata": {}
        }
      ]
    },
    {
      "cell_type": "markdown",
      "source": [
        "#### Un AUC de 1.00 indica que el modelo es perfecto en términos de su capacidad para distinguir entre tumores malignos y benignos. Esto significa que, para todos los umbrales de clasificación, el modelo logra una Tasa de Verdaderos Positivos (TPR) del 100% sin generar Falsos Positivos (FPR). En otras palabras:\n",
        "\n",
        "*   TPR = 1.0: El modelo identifica correctamente todos los tumores malignos.\n",
        "*   FPR = 0.0: El modelo no clasifica incorrectamente ningún tumor benigno como maligno.\n",
        "\n",
        "#### La curva ROC pasa por la esquina superior izquierda (0, 1), lo que es el punto ideal para un modelo de clasificación. Esto indica que: El modelo tiene una capacidad de discriminación perfecta entre las dos clases (maligno y benigno).No hay solapamiento entre las distribuciones de probabilidad de las clases, lo que significa que el modelo puede separar perfectamente los tumores malignos de los benignos.\n",
        "#### Aunque los valores del F1-score y la presicion no sean perfectas y el AUC sea de 1.00 puede llegar a causar un poco de ruido pero debemos entender que el AUC evalúa la capacidad del modelo para distinguir entre clases en todos los umbrales de clasificación posibles. Un AUC de 1.00 indica que el modelo puede separar perfectamente las clases (en este caso, tumores malignos y benignos) en términos de probabilidades. Esto significa que no hay solapamiento entre las distribuciones de probabilidad de las dos clases, y el modelo es capaz de asignar probabilidades más altas a los tumores malignos que a los benignos (o viceversa) de manera consistente.\n",
        "\n",
        "#### Por otro lado, la precisión y el F1-score dependen del umbral de clasificación que se elija en este caso es por defecto (0.5). Estas métricas miden el rendimiento del modelo en un umbral específico, no en todos los umbrales posibles. Si el umbral no es óptimo, la precisión y el F1-score pueden ser menores al 100%, incluso si el AUC es 1.00. Por ejemplo, si el umbral por defecto no está calibrado para maximizar la precisión o el F1-score, el modelo podría estar cometiendo errores en las predicciones binarias (maligno/benigno), aunque las probabilidades subyacentes estén perfectamente separadas.\n",
        "\n"
      ],
      "metadata": {
        "id": "dQyJe3gPlOWq"
      }
    },
    {
      "cell_type": "markdown",
      "source": [
        "## **Preguntas finales**"
      ],
      "metadata": {
        "id": "3nuGqmcroIYw"
      }
    },
    {
      "cell_type": "markdown",
      "source": [
        "### Una vez que entrenamos y evaluamos el modelo y mostramos toda esa información en la sección anterior, podemos complementar esos conceptos contestando las siguientes preguntas:"
      ],
      "metadata": {
        "id": "tiQH96Looe5a"
      }
    },
    {
      "cell_type": "markdown",
      "source": [
        "### 1. Si tuviesen que seleccionar de un universo de N mujeres, k mujeres donde de tal manera que las mujeres representen los datos disponibles. Como harian?"
      ],
      "metadata": {
        "id": "H9VXGt4Ep3i6"
      }
    },
    {
      "cell_type": "markdown",
      "source": [
        "#### Se puede utilizar una técnica llamada **muestreo estratificado**. Esta técnica es especialmente útil cuando el conjunto de datos tiene clases desbalanceadas (por ejemplo, más tumores benignos que malignos) y queremos asegurarnos de que el subconjunto seleccionado mantenga la misma proporción de clases que el conjunto original."
      ],
      "metadata": {
        "id": "kQMK4NXNp98s"
      }
    },
    {
      "cell_type": "markdown",
      "source": [
        "#### Entonces este método asegura que la proporción de clases (tumores malignos y benignos) en el subconjunto sea la misma que en el conjunto original. Garantizando que el subconjunto sea representativo y útil para análisis posteriores. En código, esto se puede implementar fácilmente usando la función train_test_split de scikit-learn con el parámetro stratify=y. Como lo tenemos en nuestro codigo de la separacion de los datos tenemos implementado eso"
      ],
      "metadata": {
        "id": "6Zp2TwqOrXLd"
      }
    },
    {
      "cell_type": "code",
      "source": [
        "X_train, X_test, y_train, y_test = train_test_split(X, y, test_size=0.2, random_state=semilla, stratify=y)"
      ],
      "metadata": {
        "id": "8ekwfGMYrqsm"
      },
      "execution_count": null,
      "outputs": []
    },
    {
      "cell_type": "markdown",
      "source": [
        "### 2. El jefe de IT del hospital quisiera tener a la mano una implementacion del algoritmo de Curvas ROC y ademas de la metrica de area debajo de la curva"
      ],
      "metadata": {
        "id": "KsvYIqfNqYgI"
      }
    },
    {
      "cell_type": "markdown",
      "source": [
        "#### Como vimos en la otra seccion un algoritmo para esta implementacion seria el siguiente"
      ],
      "metadata": {
        "id": "tWPQVsxNqgqE"
      }
    },
    {
      "cell_type": "code",
      "source": [
        "from sklearn.metrics import roc_curve, auc, RocCurveDisplay\n",
        "import matplotlib.pyplot as plt\n",
        "\n",
        "fpr, tpr, thresholds = roc_curve(y_test, y_pred_prob)\n",
        "\n",
        "# (AUC)\n",
        "roc_auc = auc(fpr, tpr)\n",
        "\n",
        "# Mostrar la curva ROC\n",
        "display = RocCurveDisplay(fpr=fpr, tpr=tpr, roc_auc=roc_auc, estimator_name='Regresión Logística')\n",
        "display.plot()\n",
        "\n",
        "# Grafica\n",
        "plt.title(\"Curva ROC para Breast Cancer Dataset\")\n",
        "plt.xlabel(\"Tasa de Falsos Positivos (FPR)\")\n",
        "plt.ylabel(\"Tasa de Verdaderos Positivos (TPR)\")\n",
        "plt.axis(\"square\")\n",
        "plt.show()"
      ],
      "metadata": {
        "id": "rHCi36Naql2W"
      },
      "execution_count": null,
      "outputs": []
    },
    {
      "cell_type": "markdown",
      "source": [
        "### 3. Como afecta el balance de clases al modelo?"
      ],
      "metadata": {
        "id": "QaHAvXhZqokg"
      }
    },
    {
      "cell_type": "markdown",
      "source": [
        "#### El balance de clases en un conjunto de datos tiene un impacto significativo en el rendimiento y la interpretación de un modelo de clasificación. Cuando las clases están desbalanceadas (es decir, una clase tiene muchas más muestras que la otra), pueden surgir varios problemas que afectan la capacidad del modelo para aprender y generalizar adecuadamente. Vamos a analizar cómo afecta el desbalance de clases al modelo y qué se puede hacer para mitigar estos efectos."
      ],
      "metadata": {
        "id": "-sffV7dHrwgg"
      }
    },
    {
      "cell_type": "markdown",
      "source": [
        "#### Sesgo hacia la Clase Mayoritaria\n",
        "\n",
        "*   Un modelo entrenado con clases desbalanceadas tiende a favorecer a la clase mayoritaria, ya que puede lograr una alta precisión simplemente prediciendo siempre la clase más frecuente.\n",
        "*   Por ejemplo, si el 90% de los tumores son benignos y el 10% son malignos, un modelo que siempre predice \"benigno\" tendría una precisión del 90%, pero no sería útil para identificar tumores malignos.\n",
        "\n",
        "#### Métricas Engañosas\n",
        "\n",
        "*   La exactitud (presicion) puede ser engañosa en casos de desbalance. Un modelo puede tener una alta exactitud simplemente prediciendo siempre la clase mayoritaria, pero esto no refleja su capacidad para identificar la clase minoritaria.\n",
        "\n",
        "#### Dificultad para Aprender la Clase Minoritaria\n",
        "\n",
        "*  Los algoritmos de aprendizaje automático tienden a optimizar la función de pérdida global, lo que puede hacer que ignoren la clase minoritaria.\n",
        "*  Esto resulta en un bajo recall (sensibilidad) para la clase minoritaria, lo que significa que el modelo no logra identificar correctamente los casos positivos (por ejemplo, tumores malignos).\n",
        "\n",
        "#### Sobreajuste a la Clase Mayoritaria\n",
        "\n",
        "*   El modelo puede sobreajustarse a la clase mayoritaria, lo que reduce su capacidad para generalizar a nuevos datos, especialmente para la clase minoritaria.\n",
        "\n",
        "#### En el caso de este dataset puede afectar que:\n",
        "\n",
        "*   Tener dificultades para identificar correctamente los tumores malignos (clase minoritaria).\n",
        "*   Lograr una alta exactitud, pero un bajo recall para la clase minoritaria.\n",
        "*   Generar predicciones sesgadas hacia la clase mayoritaria (benigna).\n",
        "\n",
        "\n",
        "\n",
        "\n",
        "\n",
        "\n",
        "\n",
        "\n",
        "\n"
      ],
      "metadata": {
        "id": "0o1dFmSzsVoB"
      }
    },
    {
      "cell_type": "markdown",
      "source": [
        "### 4. Por que es importante usar AUC y F1-score ademas de la exactitud?\n"
      ],
      "metadata": {
        "id": "xkhNYrt0tgkD"
      }
    },
    {
      "cell_type": "markdown",
      "source": [
        "#### El uso de métricas como el AUC y el F1-score, además de la exactitud (accuracy), es esencial para evaluar correctamente este modelo de clasificación, especialmente en problemas donde las clases están desbalanceadas o donde los errores tienen consecuencias importantes, como en diagnósticos médicos. La exactitud, aunque es una métrica fácil de entender, tiene limitaciones significativas. Por ejemplo, en un dataset con muchas más muestras de una clase que de otra, un modelo puede lograr una alta exactitud simplemente prediciendo siempre la clase mayoritaria, lo que no es útil para identificar la clase minoritaria. Esto es particularmente problemático en el caso del cáncer de mama, donde no detectar un tumor maligno (falso negativo) puede tener consecuencias graves.\n",
        "\n",
        "#### Entonces usamos el F1-score y el AUC. El F1-score combina dos métricas clave: la precisión (cuántas predicciones positivas son correctas) y el recall (cuántos casos positivos reales se identificaron correctamente). Esta combinación es especialmente útil cuando tanto los falsos positivos como los falsos negativos son importantes. Por ejemplo, en el diagnóstico de cáncer, un falso negativo (no detectar un tumor maligno) es muy costoso, pero un falso positivo (clasificar un tumor benigno como maligno) también puede generar puede ser fatal. El F1-score nos da un equilibrio entre estos dos aspectos, lo que lo hace más robusto que la exactitud en casos de desbalance.\n",
        "\n",
        "#### Por otro lado, el AUC evalúa la capacidad del modelo para distinguir entre clases en todos los umbrales de clasificación posibles. A diferencia de la exactitud y el F1-score, que dependen de un umbral específico, el AUC nos dice qué tan bien el modelo puede separar las clases en términos de probabilidades. Un AUC cercano a 1.0 indica que el modelo es excelente para distinguir entre tumores malignos y benignos, independientemente del umbral que se elija. Esto es especialmente útil porque nos permite evaluar el rendimiento del modelo de manera más completa, sin depender de un umbral fijo."
      ],
      "metadata": {
        "id": "t3Qk4vTetoRu"
      }
    }
  ]
}